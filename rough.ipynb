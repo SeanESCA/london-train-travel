{
 "cells": [
  {
   "cell_type": "code",
   "execution_count": null,
   "id": "39b691ba",
   "metadata": {},
   "outputs": [],
   "source": [
    "from utils import *\n",
    "import json\n",
    "import logging\n",
    "import matplotlib.pyplot as plt"
   ]
  },
  {
   "cell_type": "code",
   "execution_count": 2,
   "id": "676eb1e0",
   "metadata": {},
   "outputs": [],
   "source": [
    "driver = webdriver.Firefox()\n",
    "\n",
    "# Initialise Google.\n",
    "driver.get(\"https://www.google.com/maps\")\n",
    "driver.find_element(By.CSS_SELECTOR, 'button[aria-label=\"Reject all\"]').click()\n"
   ]
  },
  {
   "cell_type": "code",
   "execution_count": 3,
   "id": "808caa88",
   "metadata": {},
   "outputs": [],
   "source": [
    "with open(\"data/stations.json\", \"r\") as file:\n",
    "    stations, lines, areas = json.load(file).values()"
   ]
  },
  {
   "cell_type": "code",
   "execution_count": 4,
   "id": "23788ff4",
   "metadata": {},
   "outputs": [],
   "source": [
    "with open(\"data/nodes.json\", \"r\") as file:\n",
    "    nodes = json.load(file)"
   ]
  },
  {
   "cell_type": "code",
   "execution_count": 7,
   "id": "734dec8b",
   "metadata": {},
   "outputs": [],
   "source": [
    "with open(\"data/times.npy\", \"rb\") as file:\n",
    "    mat = np.load(file)"
   ]
  },
  {
   "cell_type": "code",
   "execution_count": null,
   "id": "6314888c",
   "metadata": {},
   "outputs": [],
   "source": [
    "# Initialise mat.\n",
    "# n = len(stations)\n",
    "# mat = np.zeros((n, n), np.int8) "
   ]
  },
  {
   "cell_type": "code",
   "execution_count": 71,
   "id": "2ad0e5f6",
   "metadata": {},
   "outputs": [],
   "source": [
    "line = \"metropolitan\"\n",
    "route = \"cal_che\"\n",
    "url_dict[line][route] = \"https://www.google.com/maps/dir/Chalfont+%26+Latimer,+Station+Approach,+Little+Chalfont,+Amersham+HP7+9PR/''/@51.6874621,-0.6288138,13z/am=t/data=!3m1!4b1!4m14!4m13!1m5!1m1!1s0x4876680ef7d58601:0xc89e6163628b7b6a!2m2!1d-0.5605253!2d51.6680694!1m5!1m1!1s0x48765d0c8f367557:0x8939ee4eec34f5d4!2m2!1d-0.6110651!2d51.7052095!3e3!5m1!1e2?entry=ttu&g_ep=EgoyMDI1MDYxMC4xIKXMDSoASAFQAw%3D%3D\""
   ]
  },
  {
   "cell_type": "code",
   "execution_count": 72,
   "id": "79c4e987",
   "metadata": {},
   "outputs": [],
   "source": [
    "# Requires user input to access and open travel details.\n",
    "driver.get(url_dict[line][route])"
   ]
  },
  {
   "cell_type": "code",
   "execution_count": 73,
   "id": "05ecd1e5",
   "metadata": {},
   "outputs": [
    {
     "name": "stdout",
     "output_type": "stream",
     "text": [
      "Number of stations: 2\n"
     ]
    }
   ],
   "source": [
    "journey, timestamps = get_journey(driver).values()"
   ]
  },
  {
   "cell_type": "code",
   "execution_count": 74,
   "id": "47c3addf",
   "metadata": {},
   "outputs": [],
   "source": [
    "# Calculate travel time between stations.\n",
    "times = []\n",
    "for i in range(len(timestamps) - 1):\n",
    "    time: int = max((timestamps[i+1] - timestamps[i]).seconds//60, 1)\n",
    "    times.append(time)"
   ]
  },
  {
   "cell_type": "code",
   "execution_count": 75,
   "id": "ab79d208",
   "metadata": {},
   "outputs": [
    {
     "data": {
      "text/plain": [
       "['Chalfont & Latimer', 'Chesham']"
      ]
     },
     "execution_count": 75,
     "metadata": {},
     "output_type": "execute_result"
    }
   ],
   "source": [
    "journey"
   ]
  },
  {
   "cell_type": "code",
   "execution_count": 76,
   "id": "41eb643f",
   "metadata": {},
   "outputs": [
    {
     "name": "stdout",
     "output_type": "stream",
     "text": [
      "0. Updated (41, 45) from 0.0 to 8.0.\n"
     ]
    }
   ],
   "source": [
    "# Update time matrix.\n",
    "for i in range(len(times)):\n",
    "    start_ind = stations.index(journey[i])\n",
    "    end_ind = stations.index(journey[i+1])\n",
    "    prev_time = mat[start_ind, end_ind]\n",
    "    if prev_time == 0:\n",
    "        mat[start_ind, end_ind] = times[i]\n",
    "    else:\n",
    "        mat[start_ind, end_ind] = 0.2 * times[i] + 0.8 * prev_time\n",
    "    mat[end_ind, start_ind] = mat[start_ind, end_ind]\n",
    "    print(f\"{i}. Updated ({start_ind}, {end_ind}) from {prev_time} to {mat[start_ind, end_ind]}.\")"
   ]
  },
  {
   "cell_type": "code",
   "execution_count": null,
   "id": "7a80191e",
   "metadata": {},
   "outputs": [],
   "source": [
    "nodes[\"metropolitan\"] = {\n",
    "    \"origin\": journey[0],\n",
    "    \"ame_ald\": journey\n",
    "}"
   ]
  },
  {
   "cell_type": "code",
   "execution_count": 77,
   "id": "947024de",
   "metadata": {},
   "outputs": [],
   "source": [
    "nodes[line][route] = journey"
   ]
  },
  {
   "cell_type": "code",
   "execution_count": 78,
   "id": "cabaf2c7",
   "metadata": {},
   "outputs": [],
   "source": [
    "with open(\"data/times.npy\", \"wb\") as file:\n",
    "    np.save(file, mat)"
   ]
  },
  {
   "cell_type": "code",
   "execution_count": 79,
   "id": "09515674",
   "metadata": {},
   "outputs": [],
   "source": [
    "with open(\"data/nodes.json\", \"w\") as file:\n",
    "    data = json.dumps(nodes, indent=4)\n",
    "    file.write(data)"
   ]
  },
  {
   "cell_type": "code",
   "execution_count": 80,
   "id": "2411fab9",
   "metadata": {},
   "outputs": [],
   "source": [
    "with open(\"data/url.json\", \"w\") as file:\n",
    "    data = json.dumps(url_dict, indent=4)\n",
    "    file.write(data)"
   ]
  },
  {
   "cell_type": "code",
   "execution_count": 81,
   "id": "da36b65a",
   "metadata": {},
   "outputs": [],
   "source": [
    "driver.quit()"
   ]
  },
  {
   "cell_type": "code",
   "execution_count": null,
   "id": "6921da77",
   "metadata": {},
   "outputs": [],
   "source": [
    "start = \"South Kensington\"\n",
    "travel_time: float = 45\n",
    "stations_ind = []\n",
    "start_ind: int = stations.index(start)\n",
    "find_stations_in_range(mat, start_ind, travel_time, stations_ind)\n"
   ]
  },
  {
   "cell_type": "code",
   "execution_count": null,
   "id": "f6a1dc87",
   "metadata": {},
   "outputs": [],
   "source": [
    "set(areas[i] for i in stations_ind)"
   ]
  },
  {
   "cell_type": "code",
   "execution_count": null,
   "id": "ca8a0e6c",
   "metadata": {},
   "outputs": [],
   "source": [
    "# node_pos = np.zeros(len(stations))"
   ]
  },
  {
   "cell_type": "code",
   "execution_count": 10,
   "id": "b1a11b9a",
   "metadata": {},
   "outputs": [],
   "source": [
    "piccadilly_nodes = np.zeros((len(stations), 3))"
   ]
  },
  {
   "cell_type": "code",
   "execution_count": 53,
   "id": "384d373c",
   "metadata": {},
   "outputs": [
    {
     "data": {
      "text/plain": [
       "array([14.,  9.,  2.])"
      ]
     },
     "execution_count": 53,
     "metadata": {},
     "output_type": "execute_result"
    }
   ],
   "source": [
    "piccadilly_nodes[stations.index(\"Heathrow Terminal 5\")]"
   ]
  },
  {
   "cell_type": "code",
   "execution_count": 26,
   "id": "2a37a5a7",
   "metadata": {},
   "outputs": [],
   "source": [
    "for i in range(len(nodes[\"piccadilly\"][\"act_hiv\"])):\n",
    "    piccadilly_nodes[stations.index(nodes[\"piccadilly\"][\"act_hiv\"][i])] = [14,i,0]"
   ]
  },
  {
   "cell_type": "code",
   "execution_count": 15,
   "id": "e8a9b800",
   "metadata": {},
   "outputs": [
    {
     "data": {
      "text/plain": [
       "array([25.,  0.])"
      ]
     },
     "execution_count": 15,
     "metadata": {},
     "output_type": "execute_result"
    }
   ],
   "source": [
    "circle_nodes[stations.index(\"Bayswater\")]"
   ]
  },
  {
   "cell_type": "code",
   "execution_count": 16,
   "id": "f088f667",
   "metadata": {},
   "outputs": [],
   "source": [
    "with open(\"circle.npy\", \"wb\") as file:\n",
    "    np.save(file, circle_nodes)"
   ]
  },
  {
   "cell_type": "code",
   "execution_count": 69,
   "id": "01353afe",
   "metadata": {},
   "outputs": [],
   "source": [
    "nodes = np.hstack((nodes, np.zeros((269,2))))"
   ]
  },
  {
   "cell_type": "code",
   "execution_count": null,
   "id": "02587ae0",
   "metadata": {},
   "outputs": [],
   "source": [
    "nodes = np.zeros((len(stations), 2))"
   ]
  },
  {
   "cell_type": "code",
   "execution_count": 90,
   "id": "a6bdd65e",
   "metadata": {},
   "outputs": [
    {
     "data": {
      "text/plain": [
       "array([7., 0., 0., 0.])"
      ]
     },
     "execution_count": 90,
     "metadata": {},
     "output_type": "execute_result"
    }
   ],
   "source": [
    "nodes[stations.index(\"Hammersmith\")]"
   ]
  },
  {
   "cell_type": "code",
   "execution_count": 91,
   "id": "2a022fee",
   "metadata": {},
   "outputs": [
    {
     "data": {
      "text/plain": [
       "array([10.,  0.,  5.,  0.])"
      ]
     },
     "execution_count": 91,
     "metadata": {},
     "output_type": "execute_result"
    }
   ],
   "source": [
    "nodes[stations.index(\"Edgware Road\")]"
   ]
  },
  {
   "cell_type": "code",
   "execution_count": 92,
   "id": "e40dfdf2",
   "metadata": {},
   "outputs": [
    {
     "data": {
      "text/plain": [
       "array([10.,  0.,  4.,  0.])"
      ]
     },
     "execution_count": 92,
     "metadata": {},
     "output_type": "execute_result"
    }
   ],
   "source": [
    "nodes[stations.index(\"Paddington\")]"
   ]
  },
  {
   "cell_type": "code",
   "execution_count": 83,
   "id": "c5a85bb9",
   "metadata": {},
   "outputs": [
    {
     "name": "stdout",
     "output_type": "stream",
     "text": [
      "Earl's Court\n",
      "West Brompton\n",
      "Fulham Broadway\n",
      "Parsons Green\n",
      "Putney Bridge\n",
      "East Putney\n",
      "Southfields\n",
      "Wimbledon Park\n",
      "Wimbledon\n"
     ]
    }
   ],
   "source": [
    "i = 0\n",
    "for station in journey:\n",
    "    print(station)\n",
    "    nodes[stations.index(station)] = [10,0,i,0]\n",
    "    i -= 1"
   ]
  },
  {
   "cell_type": "code",
   "execution_count": 51,
   "id": "17540d44",
   "metadata": {},
   "outputs": [],
   "source": [
    "with open(\"piccadilly.npy\", \"wb\") as file:\n",
    "    np.save(file, piccadilly_nodes)"
   ]
  },
  {
   "cell_type": "code",
   "execution_count": 54,
   "id": "164f6c83",
   "metadata": {},
   "outputs": [],
   "source": [
    "driver.quit()"
   ]
  },
  {
   "cell_type": "code",
   "execution_count": 28,
   "id": "3ce7e831",
   "metadata": {},
   "outputs": [],
   "source": [
    "with open(\"nodes.json\", \"w\") as file:\n",
    "    data = json.dumps(nodes, indent=4)\n",
    "    file.write(data)"
   ]
  },
  {
   "cell_type": "code",
   "execution_count": null,
   "id": "ba45271c",
   "metadata": {},
   "outputs": [],
   "source": []
  }
 ],
 "metadata": {
  "kernelspec": {
   "display_name": "Python 3",
   "language": "python",
   "name": "python3"
  },
  "language_info": {
   "codemirror_mode": {
    "name": "ipython",
    "version": 3
   },
   "file_extension": ".py",
   "mimetype": "text/x-python",
   "name": "python",
   "nbconvert_exporter": "python",
   "pygments_lexer": "ipython3",
   "version": "3.12.10"
  }
 },
 "nbformat": 4,
 "nbformat_minor": 5
}
