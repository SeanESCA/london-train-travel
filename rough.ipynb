{
 "cells": [
  {
   "cell_type": "code",
   "execution_count": 1,
   "id": "39b691ba",
   "metadata": {},
   "outputs": [],
   "source": [
    "from utils import *\n",
    "import json\n",
    "import logging\n",
    "import matplotlib.pyplot as plt"
   ]
  },
  {
   "cell_type": "code",
   "execution_count": 2,
   "id": "676eb1e0",
   "metadata": {},
   "outputs": [],
   "source": [
    "driver = webdriver.Firefox()\n",
    "\n",
    "# Initialise Google.\n",
    "driver.get(\"https://www.google.com/maps\")\n",
    "driver.find_element(By.CSS_SELECTOR, 'button[aria-label=\"Reject all\"]').click()\n"
   ]
  },
  {
   "cell_type": "code",
   "execution_count": null,
   "id": "69f2e3c3",
   "metadata": {},
   "outputs": [],
   "source": [
    "with open(\"data/codes.json\", \"r\") as file:\n",
    "    code_data = json.load(file)"
   ]
  },
  {
   "cell_type": "code",
   "execution_count": 124,
   "id": "808caa88",
   "metadata": {},
   "outputs": [],
   "source": [
    "with open(\"data/stations.json\", \"r\") as file:\n",
    "    station_data = json.load(file)"
   ]
  },
  {
   "cell_type": "code",
   "execution_count": 5,
   "id": "23788ff4",
   "metadata": {},
   "outputs": [],
   "source": [
    "with open(\"data/nodes.json\", \"r\") as file:\n",
    "    nodes = json.load(file)"
   ]
  },
  {
   "cell_type": "code",
   "execution_count": 101,
   "id": "734dec8b",
   "metadata": {},
   "outputs": [],
   "source": [
    "with open(\"data/overground.npy\", \"rb\") as file:\n",
    "    og_mat = np.load(file)"
   ]
  },
  {
   "cell_type": "code",
   "execution_count": 127,
   "id": "add219d4",
   "metadata": {},
   "outputs": [],
   "source": [
    "with open(\"data/url.json\", \"r\") as file:\n",
    "    url_dict = json.load(file)"
   ]
  },
  {
   "cell_type": "code",
   "execution_count": 8,
   "id": "905e2410",
   "metadata": {},
   "outputs": [],
   "source": [
    "def get_journey(driver):    \n",
    "    # Collect stations.\n",
    "    journey = []\n",
    "    for entry in driver.find_elements(By.CSS_SELECTOR, 'span[id^=transit_group] h2'):\n",
    "        # Remove '.' from abbreviations in the station name.\n",
    "        station: str = re.sub(r\"\\.\", \"\", entry.text)\n",
    "        # Remove 'Station' from the station name.\n",
    "        station = re.sub(r\"( Power)? Station\", r\"\", station)\n",
    "        # Correct for Harrow-on-the-Hill.\n",
    "        if station == \"Harrow on the Hill\":\n",
    "            station = \"Harrow-on-the-Hill\"\n",
    "        if len(station) > 0:\n",
    "            journey.append(station)\n",
    "\n",
    "    return journey\n",
    "\n",
    "def get_timestamps(driver):\n",
    "    # Collect timestamps.\n",
    "    timestamps = []\n",
    "    for entry in driver.find_elements(By.CSS_SELECTOR, 'span[id^=transit_group] div:has(~ h2), span[id^=transit_group] > div > div:first-child'):\n",
    "        timestamp_str: str = re.sub(r\"\\u202f\", \"\", entry.text)\n",
    "        if len(timestamp_str) > 0:\n",
    "            timestamp = datetime.strptime(timestamp_str, \"%I:%M%p\")\n",
    "            timestamps.append(timestamp)\n",
    "    return timestamps"
   ]
  },
  {
   "cell_type": "code",
   "execution_count": 125,
   "id": "03c8dedb",
   "metadata": {},
   "outputs": [],
   "source": [
    "system = \"overground\"\n",
    "codes = station_data[system][\"codes\"]\n",
    "stations = station_data[system][\"stations\"]"
   ]
  },
  {
   "cell_type": "code",
   "execution_count": 126,
   "id": "6314888c",
   "metadata": {},
   "outputs": [],
   "source": [
    "# Initialise mat.\n",
    "n = len(stations)\n",
    "og_mat = np.zeros((n, n), np.float32) "
   ]
  },
  {
   "cell_type": "code",
   "execution_count": 152,
   "id": "79c4e987",
   "metadata": {},
   "outputs": [],
   "source": [
    "line = \"liberty\"\n",
    "driver.get(url_dict[\"overground\"][line][\"upm_rmf\"])\n",
    "\n",
    "# Open journey details.\n",
    "for element in driver.find_elements(By.CSS_SELECTOR, 'button[aria-label=\"Toggle details\"]'):\n",
    "    if element.is_displayed():\n",
    "        element.click()"
   ]
  },
  {
   "cell_type": "code",
   "execution_count": 153,
   "id": "05ecd1e5",
   "metadata": {},
   "outputs": [],
   "source": [
    "journey: list[str] = get_journey(driver)\n",
    "timestamps: list[datetime] = get_timestamps(driver)\n",
    "\n",
    "# Check extraction.\n",
    "assert len(journey) == len(timestamps)\n",
    "assert len(journey) > 0, \"No stops found. Check that the url is correct.\""
   ]
  },
  {
   "cell_type": "code",
   "execution_count": 154,
   "id": "e8facb3d",
   "metadata": {},
   "outputs": [
    {
     "data": {
      "text/plain": [
       "['Upminster', 'Emerson Park', 'Romford']"
      ]
     },
     "execution_count": 154,
     "metadata": {},
     "output_type": "execute_result"
    }
   ],
   "source": [
    "journey"
   ]
  },
  {
   "cell_type": "code",
   "execution_count": null,
   "id": "89cc9afa",
   "metadata": {},
   "outputs": [
    {
     "data": {
      "text/plain": [
       "(81, 81)"
      ]
     },
     "execution_count": 108,
     "metadata": {},
     "output_type": "execute_result"
    }
   ],
   "source": [
    "for station in journey:\n",
    "    if station not in stations:\n",
    "        stations.append(station)\n",
    "        stations.sort()\n",
    "        codes.insert(stations.index(station), \"\")\n",
    "        og_mat = np.insert(og_mat, stations.index(station), 0, axis=0)\n",
    "        og_mat = np.insert(og_mat, stations.index(station), 0, axis=1)"
   ]
  },
  {
   "cell_type": "code",
   "execution_count": null,
   "id": "0027698f",
   "metadata": {},
   "outputs": [],
   "source": [
    "codes[stations.index(\"\")] = \"\""
   ]
  },
  {
   "cell_type": "code",
   "execution_count": 147,
   "id": "2ad0e5f6",
   "metadata": {},
   "outputs": [
    {
     "name": "stdout",
     "output_type": "stream",
     "text": [
      "wfh_wfj\n"
     ]
    }
   ],
   "source": [
    "line = \"lioness\"\n",
    "url = driver.current_url\n",
    "route = f\"{codes[stations.index(journey[0])].lower()}_{codes[stations.index(journey[-1])].lower()}\"\n",
    "print(route)\n",
    "\n",
    "if line in url_dict[system].keys():\n",
    "    url_dict[system][line][route] = url\n",
    "else:\n",
    "    url_dict[system][line] = { route: url }\n"
   ]
  },
  {
   "cell_type": "code",
   "execution_count": null,
   "id": "2b4dd60e",
   "metadata": {},
   "outputs": [
    {
     "data": {
      "text/plain": [
       "19"
      ]
     },
     "execution_count": 115,
     "metadata": {},
     "output_type": "execute_result"
    }
   ],
   "source": []
  },
  {
   "cell_type": "code",
   "execution_count": 155,
   "id": "47c3addf",
   "metadata": {},
   "outputs": [],
   "source": [
    "# Calculate travel time between stations.\n",
    "times = []\n",
    "for i in range(len(timestamps) - 1):\n",
    "    time: int = max((timestamps[i+1] - timestamps[i]).seconds//60, 1)\n",
    "    times.append(time)"
   ]
  },
  {
   "cell_type": "code",
   "execution_count": 156,
   "id": "41eb643f",
   "metadata": {},
   "outputs": [
    {
     "name": "stdout",
     "output_type": "stream",
     "text": [
      "0. Updated (67, 19) from 0.0 to 4.0.\n",
      "1. Updated (19, 55) from 0.0 to 5.0.\n"
     ]
    }
   ],
   "source": [
    "beta: float = 0.9\n",
    "\n",
    "# Update time matrix.\n",
    "for i in range(len(times)):\n",
    "    start_ind = stations.index(journey[i])\n",
    "    end_ind = stations.index(journey[i+1])\n",
    "    prev_time = og_mat[start_ind, end_ind]\n",
    "    if prev_time < 1e-16:\n",
    "        og_mat[start_ind, end_ind] = times[i]\n",
    "    else:\n",
    "        og_mat[start_ind, end_ind] = (1 - beta) * times[i] + beta * prev_time\n",
    "    og_mat[end_ind, start_ind] = og_mat[start_ind, end_ind]\n",
    "    print(f\"{i}. Updated ({start_ind}, {end_ind}) from {prev_time} to {og_mat[start_ind, end_ind]}.\")"
   ]
  },
  {
   "cell_type": "code",
   "execution_count": 120,
   "id": "7a80191e",
   "metadata": {},
   "outputs": [],
   "source": [
    "if line in nodes[system].keys():\n",
    "    nodes[system][line][route] = journey\n",
    "else:\n",
    "    nodes[system][line] = { route: journey }"
   ]
  },
  {
   "cell_type": "code",
   "execution_count": 157,
   "id": "cabaf2c7",
   "metadata": {},
   "outputs": [],
   "source": [
    "with open(\"data/overground.npy\", \"wb\") as file:\n",
    "    np.save(file, og_mat)"
   ]
  },
  {
   "cell_type": "code",
   "execution_count": 122,
   "id": "09515674",
   "metadata": {},
   "outputs": [],
   "source": [
    "with open(\"data/nodes.json\", \"w\") as file:\n",
    "    data = json.dumps(nodes, indent=4)\n",
    "    file.write(data)"
   ]
  },
  {
   "cell_type": "code",
   "execution_count": 151,
   "id": "2411fab9",
   "metadata": {},
   "outputs": [],
   "source": [
    "with open(\"data/url.json\", \"w\") as file:\n",
    "    data = json.dumps(url_dict, indent=4)\n",
    "    file.write(data)"
   ]
  },
  {
   "cell_type": "code",
   "execution_count": 105,
   "id": "eed1c621",
   "metadata": {},
   "outputs": [],
   "source": [
    "with open(\"data/stations.json\", \"w\") as file:\n",
    "    data = json.dumps(station_data, indent=4)\n",
    "    file.write(data)"
   ]
  },
  {
   "cell_type": "code",
   "execution_count": 158,
   "id": "da36b65a",
   "metadata": {},
   "outputs": [],
   "source": [
    "driver.quit()"
   ]
  },
  {
   "cell_type": "code",
   "execution_count": null,
   "id": "6921da77",
   "metadata": {},
   "outputs": [],
   "source": [
    "start = \"South Kensington\"\n",
    "travel_time: float = 45\n",
    "stations_ind = []\n",
    "start_ind: int = stations.index(start)\n",
    "find_stations_in_range(mat, start_ind, travel_time, stations_ind)\n"
   ]
  },
  {
   "cell_type": "code",
   "execution_count": null,
   "id": "f6a1dc87",
   "metadata": {},
   "outputs": [],
   "source": [
    "set(areas[i] for i in stations_ind)"
   ]
  },
  {
   "cell_type": "code",
   "execution_count": null,
   "id": "ca8a0e6c",
   "metadata": {},
   "outputs": [],
   "source": [
    "# node_pos = np.zeros(len(stations))"
   ]
  },
  {
   "cell_type": "code",
   "execution_count": 10,
   "id": "b1a11b9a",
   "metadata": {},
   "outputs": [],
   "source": [
    "piccadilly_nodes = np.zeros((len(stations), 3))"
   ]
  },
  {
   "cell_type": "code",
   "execution_count": 53,
   "id": "384d373c",
   "metadata": {},
   "outputs": [
    {
     "data": {
      "text/plain": [
       "array([14.,  9.,  2.])"
      ]
     },
     "execution_count": 53,
     "metadata": {},
     "output_type": "execute_result"
    }
   ],
   "source": [
    "piccadilly_nodes[stations.index(\"Heathrow Terminal 5\")]"
   ]
  },
  {
   "cell_type": "code",
   "execution_count": 26,
   "id": "2a37a5a7",
   "metadata": {},
   "outputs": [],
   "source": [
    "for i in range(len(nodes[\"piccadilly\"][\"act_hiv\"])):\n",
    "    piccadilly_nodes[stations.index(nodes[\"piccadilly\"][\"act_hiv\"][i])] = [14,i,0]"
   ]
  },
  {
   "cell_type": "code",
   "execution_count": 15,
   "id": "e8a9b800",
   "metadata": {},
   "outputs": [
    {
     "data": {
      "text/plain": [
       "array([25.,  0.])"
      ]
     },
     "execution_count": 15,
     "metadata": {},
     "output_type": "execute_result"
    }
   ],
   "source": [
    "circle_nodes[stations.index(\"Bayswater\")]"
   ]
  },
  {
   "cell_type": "code",
   "execution_count": 16,
   "id": "f088f667",
   "metadata": {},
   "outputs": [],
   "source": [
    "with open(\"circle.npy\", \"wb\") as file:\n",
    "    np.save(file, circle_nodes)"
   ]
  },
  {
   "cell_type": "code",
   "execution_count": 69,
   "id": "01353afe",
   "metadata": {},
   "outputs": [],
   "source": [
    "nodes = np.hstack((nodes, np.zeros((269,2))))"
   ]
  },
  {
   "cell_type": "code",
   "execution_count": null,
   "id": "02587ae0",
   "metadata": {},
   "outputs": [],
   "source": [
    "nodes = np.zeros((len(stations), 2))"
   ]
  },
  {
   "cell_type": "code",
   "execution_count": 90,
   "id": "a6bdd65e",
   "metadata": {},
   "outputs": [
    {
     "data": {
      "text/plain": [
       "array([7., 0., 0., 0.])"
      ]
     },
     "execution_count": 90,
     "metadata": {},
     "output_type": "execute_result"
    }
   ],
   "source": [
    "nodes[stations.index(\"Hammersmith\")]"
   ]
  },
  {
   "cell_type": "code",
   "execution_count": 91,
   "id": "2a022fee",
   "metadata": {},
   "outputs": [
    {
     "data": {
      "text/plain": [
       "array([10.,  0.,  5.,  0.])"
      ]
     },
     "execution_count": 91,
     "metadata": {},
     "output_type": "execute_result"
    }
   ],
   "source": [
    "nodes[stations.index(\"Edgware Road\")]"
   ]
  },
  {
   "cell_type": "code",
   "execution_count": 92,
   "id": "e40dfdf2",
   "metadata": {},
   "outputs": [
    {
     "data": {
      "text/plain": [
       "array([10.,  0.,  4.,  0.])"
      ]
     },
     "execution_count": 92,
     "metadata": {},
     "output_type": "execute_result"
    }
   ],
   "source": [
    "nodes[stations.index(\"Paddington\")]"
   ]
  },
  {
   "cell_type": "code",
   "execution_count": 83,
   "id": "c5a85bb9",
   "metadata": {},
   "outputs": [
    {
     "name": "stdout",
     "output_type": "stream",
     "text": [
      "Earl's Court\n",
      "West Brompton\n",
      "Fulham Broadway\n",
      "Parsons Green\n",
      "Putney Bridge\n",
      "East Putney\n",
      "Southfields\n",
      "Wimbledon Park\n",
      "Wimbledon\n"
     ]
    }
   ],
   "source": [
    "i = 0\n",
    "for station in journey:\n",
    "    print(station)\n",
    "    nodes[stations.index(station)] = [10,0,i,0]\n",
    "    i -= 1"
   ]
  },
  {
   "cell_type": "code",
   "execution_count": 51,
   "id": "17540d44",
   "metadata": {},
   "outputs": [],
   "source": [
    "with open(\"piccadilly.npy\", \"wb\") as file:\n",
    "    np.save(file, piccadilly_nodes)"
   ]
  },
  {
   "cell_type": "code",
   "execution_count": null,
   "id": "164f6c83",
   "metadata": {},
   "outputs": [],
   "source": [
    "driver.quit()"
   ]
  },
  {
   "cell_type": "code",
   "execution_count": 28,
   "id": "3ce7e831",
   "metadata": {},
   "outputs": [],
   "source": [
    "with open(\"nodes.json\", \"w\") as file:\n",
    "    data = json.dumps(nodes, indent=4)\n",
    "    file.write(data)"
   ]
  },
  {
   "cell_type": "code",
   "execution_count": null,
   "id": "f984d414",
   "metadata": {},
   "outputs": [],
   "source": [
    "with open(\"data/stations.json\", \"w\") as file:\n",
    "    data = json.dumps(nodes, indent=4)\n",
    "    file.write(data)"
   ]
  }
 ],
 "metadata": {
  "kernelspec": {
   "display_name": "Python 3",
   "language": "python",
   "name": "python3"
  },
  "language_info": {
   "codemirror_mode": {
    "name": "ipython",
    "version": 3
   },
   "file_extension": ".py",
   "mimetype": "text/x-python",
   "name": "python",
   "nbconvert_exporter": "python",
   "pygments_lexer": "ipython3",
   "version": "3.12.10"
  }
 },
 "nbformat": 4,
 "nbformat_minor": 5
}
