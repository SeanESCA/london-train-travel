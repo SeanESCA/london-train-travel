{
 "cells": [
  {
   "cell_type": "markdown",
   "id": "dbb54479",
   "metadata": {},
   "source": [
    "Breadth-first search for finding stations within distance.\n",
    "A_star for finding optimal route.\n",
    "Use H&C as main axis due to lack of branching.\n",
    "\n",
    "Nodes Completed\n",
    "- Circle\n",
    "    - Paddington to Hammersmith\n",
    "    - Paddington to Bayswater\n",
    "- Picadilly\n",
    "    - Uxbridge to Cockfosters\n",
    "    - Acton Town to Hatton Cross\n",
    "    - Hatton Cross to Heathrow Terminals 2 & 3\n",
    "    - Heathrow Terminal's 2 & 3 to Heathrow Terminal 5.\n",
    "\n",
    "Matrix\n",
    "- Bakerloo\n",
    "- Circle\n",
    "- District\n",
    "- Jubilee\n",
    "- Piccadilly\n",
    "\n",
    "Pending\n",
    "- Central\n",
    "- Metropolitan\n",
    "- Northern\n",
    "- Victoria\n",
    "- Waterloo and City\n",
    "\n",
    "Not part of underground (in descending importance)\n",
    "- Elizabeth\n",
    "- London Trams\n",
    "- Thameslink\n",
    "- Liberty\n",
    "- Lioness\n",
    "- Mildmay\n",
    "- Suffragette\n",
    "- Weaver\n",
    "- Windrush\n",
    "\n",
    "Completed\n",
    "- Circle\n",
    "- District\n",
    "- Picadilly\n",
    "- H&C"
   ]
  },
  {
   "cell_type": "code",
   "execution_count": 1,
   "id": "39b691ba",
   "metadata": {},
   "outputs": [],
   "source": [
    "from datetime import datetime\n",
    "import json\n",
    "import logging\n",
    "import matplotlib.pyplot as plt\n",
    "import numpy as np\n",
    "import re\n",
    "from selenium import webdriver\n",
    "from selenium.webdriver.common.by import By"
   ]
  },
  {
   "cell_type": "code",
   "execution_count": null,
   "id": "676eb1e0",
   "metadata": {},
   "outputs": [],
   "source": [
    "driver = webdriver.Firefox()\n",
    "\n",
    "# Initialise Google.\n",
    "driver.get(\"https://www.google.com/maps\")\n",
    "driver.find_element(By.CSS_SELECTOR, 'button[aria-label=\"Reject all\"]').click()\n"
   ]
  },
  {
   "cell_type": "code",
   "execution_count": null,
   "id": "3382db2e",
   "metadata": {},
   "outputs": [],
   "source": [
    "def get_undergound_data():\n",
    "    \n",
    "    driver.get(\"https://en.wikipedia.org/wiki/List_of_London_Underground_stations\")\n",
    "    stations: list = [station.text for station in driver.find_elements(By.CSS_SELECTOR, \".wikitable tbody tr th:first-child a\")]\n",
    "    areas: list = [area.text for area in driver.find_elements(By.CSS_SELECTOR, \".wikitable tbody tr td:last-child a\")]\n",
    "\n",
    "    lines = []\n",
    "    for entry in driver.find_elements(By.CSS_SELECTOR, \".wikitable tbody tr td:nth-child(3)\"):\n",
    "        lines_str: str = re.sub(r\"\\[.\\]\",\"\",entry.text)\n",
    "        lines.append(lines_str.split(\"\\n\"))\n",
    "\n",
    "    assert len(stations) == len(lines)\n",
    "    assert len(stations) == len(areas)\n",
    "\n",
    "    unique_stations, counts = np.unique(stations, \n",
    "                                        return_counts=True)\n",
    "    for station in unique_stations[counts > 1]:\n",
    "        i = stations.index(station)\n",
    "        stations.pop(i+1)\n",
    "        lines[i] = lines[i] + lines[i+1]\n",
    "        areas.pop(i+1)\n",
    "\n",
    "    return {\n",
    "        \"stations\": stations,\n",
    "        \"lines\": lines,\n",
    "        \"areas\": areas\n",
    "    }"
   ]
  },
  {
   "cell_type": "code",
   "execution_count": null,
   "id": "87fc4ad8",
   "metadata": {},
   "outputs": [],
   "source": [
    "driver.get(\"https://en.wikipedia.org/wiki/Elizabeth_line#Route\")"
   ]
  },
  {
   "cell_type": "code",
   "execution_count": 13,
   "id": "347a73d1",
   "metadata": {},
   "outputs": [],
   "source": [
    "def find_stations_in_range(mat: np.array, start_ind: int, travel_time: float, stations_ind: list) -> None:\n",
    "    '''\n",
    "    Find stations within the travel time using recursion.\n",
    "    '''\n",
    "    if travel_time > 0:\n",
    "        stations_ind.append(start_ind)\n",
    "        for i in np.where(mat[start_ind] > 0)[0]:\n",
    "            # Travel time from the current station to the neighbouring station.\n",
    "            g_val: float = mat[start_ind, i]\n",
    "            # Only check stations within the travel time and that have not been visited.\n",
    "            if (g_val < travel_time) and (i not in stations_ind):\n",
    "                find_stations_in_range(mat, i, travel_time - g_val, stations_ind)"
   ]
  },
  {
   "cell_type": "code",
   "execution_count": 3,
   "id": "808caa88",
   "metadata": {},
   "outputs": [],
   "source": [
    "with open(\"data.json\", \"r\") as file:\n",
    "    stations, lines, areas = json.load(file).values()"
   ]
  },
  {
   "cell_type": "code",
   "execution_count": 5,
   "id": "23788ff4",
   "metadata": {},
   "outputs": [],
   "source": [
    "with open(\"nodes.json\", \"r\") as file:\n",
    "    nodes = json.load(file)"
   ]
  },
  {
   "cell_type": "code",
   "execution_count": 4,
   "id": "734dec8b",
   "metadata": {},
   "outputs": [],
   "source": [
    "with open(\"times.npy\", \"rb\") as file:\n",
    "    mat = np.load(file)"
   ]
  },
  {
   "cell_type": "code",
   "execution_count": null,
   "id": "6314888c",
   "metadata": {},
   "outputs": [],
   "source": [
    "# Initialise mat.\n",
    "# n = len(stations)\n",
    "# mat = np.zeros((n, n), np.int8) "
   ]
  },
  {
   "cell_type": "code",
   "execution_count": 32,
   "id": "2ad0e5f6",
   "metadata": {},
   "outputs": [],
   "source": [
    "route_url_dict = {\n",
    "    \"bakerloo\": {\n",
    "        \"elc_haw\": \"https://www.google.com/maps/dir/Elephant+%26+Castle+Underground/Harrow+%26+Wealdstone,+The+Bridge,+High+St,+Harrow+HA3+5BP/@51.5541056,-0.2110221,11z/am=t/data=!4m14!4m13!1m5!1m1!1s0x487604a20531f45b:0x7da80f2ce5eb0ae0!2m2!1d-0.1003064!2d51.4946135!1m5!1m1!1s0x4876137941a06ff5:0xbb4f91708f98e221!2m2!1d-0.3343587!2d51.5917236!3e3!5m1!1e2?entry=ttu&g_ep=EgoyMDI1MDYwOS4wIKXMDSoASAFQAw%3D%3D\"\n",
    "    },\n",
    "    \"circle\": {\n",
    "        \"ham_bla\": \"https://www.google.com/maps/dir/Hammersmith,+Underground+Ltd,+Hammersmith+Station,+Beadon+Road,+London/Blackfriars+station,+London/@51.5103531,-0.2330639,12z/am=t/data=!4m15!4m14!1m5!1m1!1s0x48760fb7def9c8bb:0xfb388ad277a5d7d4!2m2!1d-0.225012!2d51.4934334!1m5!1m1!1s0x487604adb1c8c98d:0xa906e9ebba170ebd!2m2!1d-0.1037435!2d51.5115979!3e3!5i1!5m1!1e2?entry=ttu&g_ep=EgoyMDI1MDYwNC4wIKXMDSoASAFQAw%3D%3D\",\n",
    "        \"pad_bla\": \"https://www.google.com/maps/dir/Paddington+Underground+Station,+Praed+Street,+London/Blackfriars+station,+London/@51.5081324,-0.2289845,12z/am=t/data=!4m14!4m13!1m5!1m1!1s0x48761ab2b05500a7:0x749d07ad72bbbe13!2m2!1d-0.1751595!2d51.5160334!1m5!1m1!1s0x487604adb1c8c98d:0xa906e9ebba170ebd!2m2!1d-0.1037435!2d51.5115979!3e3!5m1!1e2?entry=ttu&g_ep=EgoyMDI1MDYwNC4wIKXMDSoASAFQAw%3D%3D\"\n",
    "    },\n",
    "    \"district\": {\n",
    "        \"eab_upm\": \"https://www.google.com/maps/dir/''/Upminster,+Station+Road,+Upminster/@51.5338843,-0.189518,11z/am=t/data=!4m19!4m18!1m5!1m1!1s0x4876120a745961ad:0x9207ed0f81ac44ba!2m2!1d-0.3016676!2d51.5147193!1m5!1m1!1s0x47d8bbb30f7ea6a3:0x8916ea91832483ae!2m2!1d0.2506216!2d51.5589642!2m3!6e0!7e2!8j1749206400!3e3!5i1!5m1!1e2?entry=ttu&g_ep=EgoyMDI1MDYwMi4wIKXMDSoASAFQAw%3D%3D\",\n",
    "        \"eac_edr\": \"https://www.google.com/maps/dir/Earl's+Court+Tube+Station,+Warwick+Road,+London/Edgware+Road,+Underground+Ltd,+Edgware+Road,+London/@51.5053269,-0.222952,13z/am=t/data=!4m14!4m13!1m5!1m1!1s0x48760f8c43d17cd3:0x7ceedb8e2a0f0a99!2m2!1d-0.1955577!2d51.4903065!1m5!1m1!1s0x48761ab6aa336037:0x6d85207552a2db32!2m2!1d-0.1701944!2d51.5202914!3e3!5m1!1e2?entry=ttu&g_ep=EgoyMDI1MDYwNC4wIKXMDSoASAFQAw%3D%3D\",\n",
    "        \"oly_eac\": \"https://www.google.com/maps/dir/Kensington+(Olympia),+Olympia+Way,+London/Earls+Court+Station,+Warwick+Road,+London/@51.493432,-0.221906,14z/am=t/data=!3m1!5s0x48761ab6aa58a1b9:0xccfbb15dd9570cf3!4m14!4m13!1m5!1m1!1s0x48760fea135f01e1:0xfda97938feb0aa15!2m2!1d-0.2099576!2d51.4979934!1m5!1m1!1s0x48760f0b16369355:0x6886f0c27f4aa00f!2m2!1d-0.1939564!2d51.4915677!3e3!5m1!1e2?entry=ttu&g_ep=EgoyMDI1MDYwNC4wIKXMDSoASAFQAw%3D%3D\",\n",
    "        \"tug_ric\": \"https://www.google.com/maps/dir/Turnham+Green+Station,+Turnham+Green+Terrace,+London/Richmond+underground,+Greater,+London/@51.4792264,-0.3193351,13z/am=t/data=!4m18!4m17!1m5!1m1!1s0x48760e3f137fc3e7:0x2a154bb6440aea35!2m2!1d-0.2545245!2d51.4951816!1m5!1m1!1s0x48760c377280f273:0x45540d669e54d16a!2m2!1d-0.3017462!2d51.4632798!2m3!6e0!7e2!8j1749206400!3e3!5m1!1e2?entry=ttu&g_ep=EgoyMDI1MDYwNC4wIKXMDSoASAFQAw%3D%3D\",\n",
    "        \"eac_wmb\": \"https://www.google.com/maps/dir/Earls+Court,+London/Wimbledon+Station,+London/@51.456709,-0.2845679,12z/am=t/data=!4m14!4m13!1m5!1m1!1s0x48760f8b593ccde9:0xbc7282217d8f10fc!2m2!1d-0.1958417!2d51.490331!1m5!1m1!1s0x487608b74564fba3:0x22621fbdfebb4dda!2m2!1d-0.2054832!2d51.4214125!3e3!5m1!1e2?entry=ttu&g_ep=EgoyMDI1MDYwNC4wIKXMDSoASAFQAw%3D%3D\",\n",
    "    },\n",
    "    \"hammersmith\": {\n",
    "        \"ham_bag\": \"https://www.google.com/maps/place/Hammersmith/@51.5519671,-0.2720873,11z/am=t/data=!4m23!1m16!4m15!1m6!1m2!1s0x48760fb49cf5881d:0xbaa0b2f34e5c12a8!2sHammersmith,+London!2m2!1d-0.223731!2d51.491187!1m6!1m2!1s0x47d8a590b42c329b:0x20d6d63bbad734a3!2sbarking!2m2!1d0.076127!2d51.5377369!5i1!3m5!1s0x48760fb7def9c8bb:0xfb388ad277a5d7d4!8m2!3d51.4934334!4d-0.225012!16s%2Fg%2F1hjgrnwff!5m1!1e2?entry=ttu&g_ep=EgoyMDI1MDYwNC4wIKXMDSoASAFQAw%3D%3D\"\n",
    "    },\n",
    "    \"jubilee\": {\n",
    "        \"stm_str\": \"https://www.google.com/maps/dir/Stanmore+Underground+Station,+Stanmore/Stratford+Underground+Station,+Greater,+London/@51.5583046,-0.1467687,11z/am=t/data=!3m1!4b1!4m14!4m13!1m5!1m1!1s0x4876143e2786d7cd:0xc30d509cbba8ee29!2m2!1d-0.3031205!2d51.6196885!1m5!1m1!1s0x48761d63d74e4981:0xe6b4025d0effd847!2m2!1d-0.003344!2d51.5411893!3e3!5m1!1e2?entry=ttu&g_ep=EgoyMDI1MDYwOS4wIKXMDSoASAFQAw%3D%3D\"\n",
    "    },\n",
    "    \"piccadilly\": {\n",
    "        \"uxb_cks\": \"https://www.google.com/maps/dir/Uxbridge+Station,+Uxbridge/Cockfosters+Station,+Underground+Ltd,+Cockfosters+Road,+Barnet/@51.5613815,-0.4528026,11z/am=t/data=!3m1!4b1!4m14!4m13!1m5!1m1!1s0x48766e7a30465843:0x239ed54658f0b3ab!2m2!1d-0.478829!2d51.547665!1m5!1m1!1s0x487618509f0d73e1:0xd406d53ae08b37e5!2m2!1d-0.1497377!2d51.6516667!3e3!5m1!1e2?entry=ttu&g_ep=EgoyMDI1MDYwNC4wIKXMDSoASAFQAw%3D%3D\",\n",
    "        \"act_hiv\": \"https://www.google.com/maps/dir/Acton+Town,+Gunnersbury+Lane,+London/Heathrow+(LHR),+Terminal+4,+Nelson+Road,+Hounslow/@51.4821786,-0.4461374,12z/am=t/data=!4m14!4m13!1m5!1m1!1s0x48760e086bc508eb:0xa856a59bf4b41e3b!2m2!1d-0.2802019!2d51.502956!1m5!1m1!1s0x487673c790311477:0xc7c12ba131bb2c2d!2m2!1d-0.4473622!2d51.4596965!3e3!5m1!1e2?entry=ttu&g_ep=EgoyMDI1MDYwNC4wIKXMDSoASAFQAw%3D%3D\",\n",
    "        \"hrv\": \"https://www.google.com/maps/dir/Heathrow+Terminal+5,+Heathrow+Airport+(LHR),+Wallis+Road,+Longford,+Hounslow/Cockfosters+Station,+Underground+Ltd,+Cockfosters+Road,+Barnet/@51.5591049,-0.6219434,10z/am=t/data=!4m18!4m17!1m5!1m1!1s0x48767175ba8c845b:0xe983bc1ac0d4eefb!2m2!1d-0.4880069!2d51.4715021!1m5!1m1!1s0x487618509f0d73e1:0xd406d53ae08b37e5!2m2!1d-0.1497377!2d51.6516667!2m3!6e0!7e2!8j1749290400!3e3!5m1!1e2?entry=ttu&g_ep=EgoyMDI1MDYwNC4wIKXMDSoASAFQAw%3D%3D\"\n",
    "    }\n",
    "}"
   ]
  },
  {
   "cell_type": "code",
   "execution_count": 23,
   "id": "6b320bca",
   "metadata": {},
   "outputs": [],
   "source": [
    "def update_times(mat):\n",
    "    # Open journey details.\n",
    "    for element in driver.find_elements(By.CSS_SELECTOR, 'button[aria-label=\"Toggle details\"]'):\n",
    "        if element.is_displayed():\n",
    "            element.click()\n",
    "    \n",
    "    # Collect stations.\n",
    "    journey = []\n",
    "    for entry in driver.find_elements(By.CSS_SELECTOR, 'span[id^=transit_group] h2'):\n",
    "        # Remove '.' from abbreviations in the station name.\n",
    "        station: str = re.sub(r\"\\.\", \"\", entry.text)\n",
    "        # Remove 'Station' from the station name unless it refers to Battersea Power Station.\n",
    "        station = re.sub(r\"(?<!Battersea Power) Station\", r\"\", station)\n",
    "        if len(station) > 0:\n",
    "            journey.append(station)\n",
    "\n",
    "    # Collect timestamps.\n",
    "    timestamps = []\n",
    "    for entry in driver.find_elements(By.CSS_SELECTOR, 'span[id^=transit_group] div:has(~ h2), span[id^=transit_group] > div > div:first-child'):\n",
    "        timestamp_str: str = re.sub(r\"\\u202f\", \"\", entry.text)\n",
    "        if len(timestamp_str) > 0:\n",
    "            timestamp = datetime.strptime(timestamp_str, \"%I:%M%p\")\n",
    "            timestamps.append(timestamp)\n",
    "\n",
    "    # Calculate travel time between stations.\n",
    "    times = []\n",
    "    for i in range(len(timestamps) - 1):\n",
    "        time: int = (timestamps[i+1] - timestamps[i]).seconds//60\n",
    "        if time == 0:\n",
    "            time = 1\n",
    "        times.append(time)\n",
    "\n",
    "    # Check extraction.\n",
    "    assert len(journey) == (len(times) + 1)\n",
    "    print(f'Number of stations: {len(journey)}')\n",
    "\n",
    "    # Update time matrix.\n",
    "    for i in range(len(times)):\n",
    "        start_ind = stations.index(journey[i])\n",
    "        end_ind = stations.index(journey[i+1])\n",
    "        prev_time = mat[start_ind, end_ind]\n",
    "        if prev_time == 0:\n",
    "            mat[start_ind, end_ind] = times[i]\n",
    "        else:\n",
    "            mat[start_ind, end_ind] = 0.2 * times[i] + 0.8 * prev_time\n",
    "        mat[end_ind, start_ind] = mat[start_ind, end_ind]\n",
    "        print(f\"{i}. Updated ({start_ind}, {end_ind}) from {prev_time} to {mat[start_ind, end_ind]}.\")\n",
    "\n",
    "    return {\n",
    "        \"times_mat\": mat,\n",
    "        \"journey\": journey\n",
    "    }\n"
   ]
  },
  {
   "cell_type": "code",
   "execution_count": 33,
   "id": "79c4e987",
   "metadata": {},
   "outputs": [],
   "source": [
    "# Requires user input to access and open travel details.\n",
    "driver.get(route_url_dict[\"jubilee\"][\"stm_str\"])"
   ]
  },
  {
   "cell_type": "code",
   "execution_count": 34,
   "id": "05ecd1e5",
   "metadata": {},
   "outputs": [
    {
     "name": "stdout",
     "output_type": "stream",
     "text": [
      "Number of stations: 27\n",
      "0. Updated (215, 40) from 0.0 to 3.0.\n",
      "1. Updated (40, 182) from 0.0 to 3.0.\n",
      "2. Updated (182, 127) from 0.0 to 2.0.\n",
      "3. Updated (127, 248) from 0.0 to 4.0.\n",
      "4. Updated (248, 152) from 0.0 to 3.0.\n",
      "5. Updated (152, 60) from 0.0 to 1.0.\n",
      "6. Updated (60, 261) from 0.0 to 3.0.\n",
      "7. Updated (261, 125) from 0.0 to 1.0.\n",
      "8. Updated (125, 253) from 0.0 to 2.0.\n",
      "9. Updated (253, 80) from 0.0 to 1.0.\n",
      "10. Updated (80, 222) from 0.0 to 1.0.\n",
      "11. Updated (222, 197) from 0.0 to 1.0.\n",
      "12. Updated (197, 9) from 0.0 to 4.0.\n",
      "13. Updated (9, 24) from 0.0 to 3.0.\n",
      "14. Updated (24, 91) from 0.0 to 2.0.\n",
      "15. Updated (91, 258) from 0.0 to 2.0.\n",
      "16. Updated (258, 245) from 0.0 to 1.0.\n",
      "17. Updated (245, 213) from 0.0 to 1.0.\n",
      "18. Updated (213, 138) from 0.0 to 2.0.\n",
      "19. Updated (138, 20) from 0.0 to 3.0.\n",
      "20. Updated (20, 36) from 0.0 to 1.0.\n",
      "21. Updated (36, 37) from 0.0 to 3.0.\n",
      "22. Updated (37, 157) from 0.0 to 2.0.\n",
      "23. Updated (157, 38) from 0.0 to 3.0.\n",
      "24. Updated (38, 252) from 0.0 to 3.0.\n",
      "25. Updated (252, 219) from 0.0 to 3.0.\n"
     ]
    }
   ],
   "source": [
    "mat, journey = update_times(mat).values()"
   ]
  },
  {
   "cell_type": "code",
   "execution_count": 35,
   "id": "7a80191e",
   "metadata": {},
   "outputs": [],
   "source": [
    "nodes[\"jubilee\"] = {\n",
    "    \"origin\": journey[0],\n",
    "    \"stm_str\": journey\n",
    "}"
   ]
  },
  {
   "cell_type": "code",
   "execution_count": 36,
   "id": "cabaf2c7",
   "metadata": {},
   "outputs": [],
   "source": [
    "with open(\"times.npy\", \"wb\") as file:\n",
    "    np.save(file, mat)"
   ]
  },
  {
   "cell_type": "code",
   "execution_count": 37,
   "id": "09515674",
   "metadata": {},
   "outputs": [],
   "source": [
    "with open(\"nodes.json\", \"w\") as file:\n",
    "    data = json.dumps(nodes, indent=4)\n",
    "    file.write(data)"
   ]
  },
  {
   "cell_type": "code",
   "execution_count": null,
   "id": "c989d834",
   "metadata": {},
   "outputs": [],
   "source": []
  },
  {
   "cell_type": "code",
   "execution_count": 153,
   "id": "da36b65a",
   "metadata": {},
   "outputs": [],
   "source": [
    "driver.quit()"
   ]
  },
  {
   "cell_type": "code",
   "execution_count": null,
   "id": "6921da77",
   "metadata": {},
   "outputs": [],
   "source": [
    "start = \"South Kensington\"\n",
    "travel_time: float = 45\n",
    "stations_ind = []\n",
    "start_ind: int = stations.index(start)\n",
    "find_stations_in_range(mat, start_ind, travel_time, stations_ind)\n"
   ]
  },
  {
   "cell_type": "code",
   "execution_count": null,
   "id": "f6a1dc87",
   "metadata": {},
   "outputs": [],
   "source": [
    "set(areas[i] for i in stations_ind)"
   ]
  },
  {
   "cell_type": "code",
   "execution_count": null,
   "id": "ca8a0e6c",
   "metadata": {},
   "outputs": [],
   "source": [
    "# node_pos = np.zeros(len(stations))"
   ]
  },
  {
   "cell_type": "code",
   "execution_count": 10,
   "id": "b1a11b9a",
   "metadata": {},
   "outputs": [],
   "source": [
    "piccadilly_nodes = np.zeros((len(stations), 3))"
   ]
  },
  {
   "cell_type": "code",
   "execution_count": 53,
   "id": "384d373c",
   "metadata": {},
   "outputs": [
    {
     "data": {
      "text/plain": [
       "array([14.,  9.,  2.])"
      ]
     },
     "execution_count": 53,
     "metadata": {},
     "output_type": "execute_result"
    }
   ],
   "source": [
    "piccadilly_nodes[stations.index(\"Heathrow Terminal 5\")]"
   ]
  },
  {
   "cell_type": "code",
   "execution_count": 26,
   "id": "2a37a5a7",
   "metadata": {},
   "outputs": [],
   "source": [
    "for i in range(len(nodes[\"piccadilly\"][\"act_hiv\"])):\n",
    "    piccadilly_nodes[stations.index(nodes[\"piccadilly\"][\"act_hiv\"][i])] = [14,i,0]"
   ]
  },
  {
   "cell_type": "code",
   "execution_count": 15,
   "id": "e8a9b800",
   "metadata": {},
   "outputs": [
    {
     "data": {
      "text/plain": [
       "array([25.,  0.])"
      ]
     },
     "execution_count": 15,
     "metadata": {},
     "output_type": "execute_result"
    }
   ],
   "source": [
    "circle_nodes[stations.index(\"Bayswater\")]"
   ]
  },
  {
   "cell_type": "code",
   "execution_count": 16,
   "id": "f088f667",
   "metadata": {},
   "outputs": [],
   "source": [
    "with open(\"circle.npy\", \"wb\") as file:\n",
    "    np.save(file, circle_nodes)"
   ]
  },
  {
   "cell_type": "code",
   "execution_count": 69,
   "id": "01353afe",
   "metadata": {},
   "outputs": [],
   "source": [
    "nodes = np.hstack((nodes, np.zeros((269,2))))"
   ]
  },
  {
   "cell_type": "code",
   "execution_count": null,
   "id": "02587ae0",
   "metadata": {},
   "outputs": [],
   "source": [
    "nodes = np.zeros((len(stations), 2))"
   ]
  },
  {
   "cell_type": "code",
   "execution_count": 90,
   "id": "a6bdd65e",
   "metadata": {},
   "outputs": [
    {
     "data": {
      "text/plain": [
       "array([7., 0., 0., 0.])"
      ]
     },
     "execution_count": 90,
     "metadata": {},
     "output_type": "execute_result"
    }
   ],
   "source": [
    "nodes[stations.index(\"Hammersmith\")]"
   ]
  },
  {
   "cell_type": "code",
   "execution_count": 91,
   "id": "2a022fee",
   "metadata": {},
   "outputs": [
    {
     "data": {
      "text/plain": [
       "array([10.,  0.,  5.,  0.])"
      ]
     },
     "execution_count": 91,
     "metadata": {},
     "output_type": "execute_result"
    }
   ],
   "source": [
    "nodes[stations.index(\"Edgware Road\")]"
   ]
  },
  {
   "cell_type": "code",
   "execution_count": 92,
   "id": "e40dfdf2",
   "metadata": {},
   "outputs": [
    {
     "data": {
      "text/plain": [
       "array([10.,  0.,  4.,  0.])"
      ]
     },
     "execution_count": 92,
     "metadata": {},
     "output_type": "execute_result"
    }
   ],
   "source": [
    "nodes[stations.index(\"Paddington\")]"
   ]
  },
  {
   "cell_type": "code",
   "execution_count": 83,
   "id": "c5a85bb9",
   "metadata": {},
   "outputs": [
    {
     "name": "stdout",
     "output_type": "stream",
     "text": [
      "Earl's Court\n",
      "West Brompton\n",
      "Fulham Broadway\n",
      "Parsons Green\n",
      "Putney Bridge\n",
      "East Putney\n",
      "Southfields\n",
      "Wimbledon Park\n",
      "Wimbledon\n"
     ]
    }
   ],
   "source": [
    "i = 0\n",
    "for station in journey:\n",
    "    print(station)\n",
    "    nodes[stations.index(station)] = [10,0,i,0]\n",
    "    i -= 1"
   ]
  },
  {
   "cell_type": "code",
   "execution_count": 51,
   "id": "17540d44",
   "metadata": {},
   "outputs": [],
   "source": [
    "with open(\"piccadilly.npy\", \"wb\") as file:\n",
    "    np.save(file, piccadilly_nodes)"
   ]
  },
  {
   "cell_type": "code",
   "execution_count": 54,
   "id": "164f6c83",
   "metadata": {},
   "outputs": [],
   "source": [
    "driver.quit()"
   ]
  },
  {
   "cell_type": "code",
   "execution_count": 28,
   "id": "3ce7e831",
   "metadata": {},
   "outputs": [],
   "source": [
    "with open(\"nodes.json\", \"w\") as file:\n",
    "    data = json.dumps(nodes, indent=4)\n",
    "    file.write(data)"
   ]
  },
  {
   "cell_type": "code",
   "execution_count": null,
   "id": "ba45271c",
   "metadata": {},
   "outputs": [],
   "source": []
  }
 ],
 "metadata": {
  "kernelspec": {
   "display_name": "Python 3",
   "language": "python",
   "name": "python3"
  },
  "language_info": {
   "codemirror_mode": {
    "name": "ipython",
    "version": 3
   },
   "file_extension": ".py",
   "mimetype": "text/x-python",
   "name": "python",
   "nbconvert_exporter": "python",
   "pygments_lexer": "ipython3",
   "version": "3.12.10"
  }
 },
 "nbformat": 4,
 "nbformat_minor": 5
}
